{
 "cells": [
  {
   "cell_type": "code",
   "execution_count": 1,
   "id": "fc9b53f5",
   "metadata": {},
   "outputs": [],
   "source": [
    "import math\n",
    "import scipy\n",
    "import numpy as np\n",
    "from matplotlib import pyplot as plt\n",
    "from scipy import optimize"
   ]
  },
  {
   "cell_type": "code",
   "execution_count": 2,
   "id": "777e208f",
   "metadata": {},
   "outputs": [
    {
     "data": {
      "text/plain": [
       "0.1353352832366127"
      ]
     },
     "execution_count": 2,
     "metadata": {},
     "output_type": "execute_result"
    },
    {
     "data": {
      "image/png": "[encoded data removed]",
      "text/plain": [
       "<Figure size 540x252 with 1 Axes>"
      ]
     },
     "metadata": {
      "needs_background": "light"
     },
     "output_type": "display_data"
    }
   ],
   "source": [
    "plt.rcParams[\"figure.figsize\"] = [7.50, 3.50]\n",
    "plt.rcParams[\"figure.autolayout\"] = True\n",
    "\n",
    "def f(t, fav):\n",
    "    return math.e ** (-abs(t - fav))\n",
    "\n",
    "def g(t, req):\n",
    "    return math.e ** (-abs(t - req))\n",
    "\n",
    "def h(t, w, fav, req):\n",
    "    s = w * fav + (1 - w) * req\n",
    "    return math.e ** (-abs(t - s))\n",
    "t = np.arange(20, 30, 0.0001)\n",
    "#plt.plot(t, f(t, 20), 'r')\n",
    "#plt.plot(t, g(t, 30), 'b')\n",
    "plt.plot(t, h(t, 0.5, 20, 30), 'r')\n",
    "\n",
    "h(23, 0.5, 20, 30)"
   ]
  },
  {
   "cell_type": "code",
   "execution_count": 3,
   "id": "c3a9d257",
   "metadata": {},
   "outputs": [],
   "source": [
    "def u_A(t, w_A, t_A, t_B, r):\n",
    "    s = w_A * t_A + (1 - w_A) * t_B\n",
    "    u = math.e ** (-abs(t - s)) / (r + 1)\n",
    "    return u \n",
    "\n",
    "def u_B(t, w_B, t_A, t_B, r):\n",
    "    s = (1 - w_B) * t_A + w_B * t_B\n",
    "    u =  math.e ** (-abs(t - s)) / (r + 1)\n",
    "    return u"
   ]
  },
  {
   "cell_type": "code",
   "execution_count": 11,
   "id": "39e8d0c9",
   "metadata": {},
   "outputs": [
    {
     "name": "stdout",
     "output_type": "stream",
     "text": [
      "A sets the temperature as 20 \n",
      "\n",
      "B: 25.0 \t Utility of B: 1.0\n",
      "A: 22.49999822002044 \t Utility of A: 0.9999982200220249\n",
      "\n",
      "\n",
      "B: 23.749998228625792 \t Utility of B: 0.9999991186159581\n",
      "A: 23.125000250059042 \t Utility of A: 0.9999979742661244\n",
      "\n",
      "\n",
      "B: 23.437501743629394 \t Utility of B: 0.999997495716157\n",
      "A: 23.281252666373543 \t Utility of A: 0.9999983304720682\n",
      "\n",
      "\n",
      "B: 23.35937689352018 \t Utility of B: 0.9999996885187615\n",
      "A: 23.320313725099016 \t Utility of A: 0.9999989451527099\n",
      "\n",
      "\n",
      "B: 23.33984479733729 \t Utility of B: 0.9999994880278211\n",
      "A: 23.330080950840934 \t Utility of A: 0.9999983103786462\n",
      "\n",
      "\n",
      "B: 23.334962761404977 \t Utility of B: 0.9999998873158723\n",
      "A: 23.332522109944374 \t Utility of A: 0.9999997461786132\n",
      "\n",
      "\n",
      "B: 23.333743436766714 \t Utility of B: 0.9999989989084633\n",
      "A: 23.333132601732423 \t Utility of A: 0.9999998283768937\n",
      "\n",
      "\n",
      "final rounds: 8\n"
     ]
    },
    {
     "data": {
      "image/png": "[encoded data removed]",
      "text/plain": [
       "<Figure size 540x252 with 1 Axes>"
      ]
     },
     "metadata": {
      "needs_background": "light"
     },
     "output_type": "display_data"
    }
   ],
   "source": [
    "#Model without bargaining cost:\n",
    "fav_A = 20\n",
    "fav_B = 30\n",
    "\n",
    "plt.xlabel(\"rounds\")\n",
    "plt.ylabel(\"temperature\")\n",
    "\n",
    "t_A = fav_A #initial bid\n",
    "t_B = fav_B #initial bid\n",
    "\n",
    "w_A = 0.5 #selfish coefficient for A\n",
    "w_B = 0.5 #selfish coefficient for B\n",
    "\n",
    "r = 1\n",
    "print(\"A sets the temperature as\", t_A, \"\\n\")\n",
    "while abs(t_A - t_B) > 0.001 and r < 100:\n",
    "    u_B_if_bid = -scipy.optimize.minimize_scalar(lambda t: -u_B(t, w_B, t_A, t_B, r = 0), bounds=[fav_A, fav_B], method='bounded')[\"fun\"]\n",
    "    t_B = scipy.optimize.minimize_scalar(lambda t: -u_B(t, w_B, t_A, t_B, r = 0), bounds=[fav_A, fav_B], method='bounded')[\"x\"]\n",
    "        \n",
    "    print(\"B:\", t_B,\"\\t Utility of B:\", u_B_if_bid)\n",
    "    plt.plot(r, t_B, marker=\"o\", color=\"blue\")\n",
    "\n",
    "    u_A_if_bid = -scipy.optimize.minimize_scalar(lambda t: -u_A(t, w_A, t_A, t_B, r = 0), bounds=[fav_A, fav_B], method='bounded')[\"fun\"]\n",
    "    t_A = scipy.optimize.minimize_scalar(lambda t: -u_A(t, w_A, t_A, t_B, r = 0), bounds=[fav_A, fav_B], method='bounded')[\"x\"]\n",
    "    print(\"A:\", t_A, \"\\t Utility of A:\", u_A_if_bid)\n",
    "    plt.plot(r, t_A, marker=\"o\", color=\"red\")\n",
    "    r += 1\n",
    "    print(\"\\n\")\n",
    "    \n",
    "print(\"final rounds:\", r)"
   ]
  },
  {
   "cell_type": "code",
   "execution_count": 73,
   "id": "ab276b35",
   "metadata": {
    "scrolled": true
   },
   "outputs": [
    {
     "name": "stdout",
     "output_type": "stream",
     "text": [
      "A sets the temperature as 20 \n",
      "\n",
      "B: 29.99999508152614 \t Utility of B: 0.003368981784656961\n",
      "A: 24.99999935651033 \t Utility of A: 0.04104258704006105\n",
      "\n",
      "\n",
      "B: 29.99999508152614 \t Utility of B: 0.027361724693373935\n",
      "A: 27.499999072665076 \t Utility of A: 0.09550178953366205\n",
      "\n",
      "\n",
      "B: 29.99999508152614 \t Utility of B: 0.07162634215024627\n",
      "A: 28.749997979501522 \t Utility of A: 0.13381555102669312\n",
      "\n",
      "\n",
      "B: 29.99999508152614 \t Utility of B: 0.10705244082135487\n",
      "A: 29.37499834856048 \t Utility of A: 0.14632336481086225\n",
      "\n",
      "\n",
      "B: 29.99999508152614 \t Utility of B: 0.12193613734238477\n",
      "A: 29.687496320111922 \t Utility of A: 0.1425576428361445\n",
      "\n",
      "\n",
      "B: 29.99999508152614 \t Utility of B: 0.12219226528812385\n",
      "A: 29.84374433320032 \t Utility of A: 0.13212120959602108\n",
      "\n",
      "\n",
      "B: 29.99999508152614 \t Utility of B: 0.11560605839651804\n",
      "A: 29.99999508152614 \t Utility of A: 0.14285714285714285\n",
      "\n",
      "\n",
      "final rounds: 8\n",
      "A chooses to compromise at last.\n"
     ]
    },
    {
     "data": {
      "image/png": "[encoded data removed]",
      "text/plain": [
       "<Figure size 540x252 with 1 Axes>"
      ]
     },
     "metadata": {
      "needs_background": "light"
     },
     "output_type": "display_data"
    }
   ],
   "source": [
    "#Model with bargaining cost:\n",
    "\n",
    "fav_A = 20\n",
    "fav_B = 30\n",
    "\n",
    "plt.rcParams[\"figure.figsize\"] = [7.50, 3.50]\n",
    "plt.rcParams[\"figure.autolayout\"] = True\n",
    "plt.xlabel(\"rounds\")\n",
    "plt.ylabel(\"temperature\")\n",
    "\n",
    "t_A = fav_A #initial bid\n",
    "t_B = fav_B #initial bid\n",
    "\n",
    "w_A = 0.5 #selfish coefficient for A\n",
    "w_B = 1 #selfish coefficient for B\n",
    "\n",
    "r = 1\n",
    "c = None\n",
    "print(\"A sets the temperature as\", t_A, \"\\n\")\n",
    "while t_A != t_B:\n",
    "    #B makes the choice of whether to bid:\n",
    "    u_B_if_bid = -scipy.optimize.minimize_scalar(lambda t: -u_B(t, w_B, t_A, t_B, r), bounds=[fav_A, fav_B], method='bounded')[\"fun\"]\n",
    "    if u_B_if_bid > u_B(t_A, w_B, t_A, t_B, r - 1):\n",
    "        t_B = scipy.optimize.minimize_scalar(lambda t: -u_B(t, w_B, t_A, t_B, r), bounds=[fav_A, fav_B], method='bounded')[\"x\"]\n",
    "    else:\n",
    "        c = \"B\"\n",
    "        t_B = t_A\n",
    "        \n",
    "    if c == None:\n",
    "        print(\"B:\", t_B,\"\\t Utility of B:\", u_B(t_B, w_A, t_A, t_B, r))\n",
    "    else:\n",
    "        print(\"B:\", t_B,\"\\t Utility of B:\", u_B(t_B, w_A, t_A, t_B, r - 1))\n",
    "    plt.plot(r, t_B, marker=\"o\", color=\"blue\")\n",
    "    \n",
    "    #A makes the choice of whether to bid:\n",
    "    u_A_if_bid = -scipy.optimize.minimize_scalar(lambda t: -u_A(t, w_A, t_A, t_B, r), bounds=[fav_A, fav_B], method='bounded')[\"fun\"]\n",
    "    if u_A_if_bid > u_A(t_B, w_A, t_A, t_B, r - 1):\n",
    "        t_A = scipy.optimize.minimize_scalar(lambda t: -u_A(t, w_A, t_A, t_B, r), bounds=[fav_A, fav_B], method='bounded')[\"x\"]\n",
    "    else:\n",
    "        c = \"A\"\n",
    "        t_A = t_B\n",
    "    \n",
    "    if c == None:\n",
    "        print(\"A:\", t_A, \"\\t Utility of A:\", u_A(t_A, w_A, t_A, t_B, r))\n",
    "    else:\n",
    "        print(\"A:\", t_A, \"\\t Utility of A:\", u_A(t_A, w_A, t_A, t_B, r - 1))\n",
    "    plt.plot(r, t_A, marker=\"o\", color=\"red\")\n",
    "    \n",
    "    r += 1\n",
    "    print(\"\\n\")\n",
    "    \n",
    "print(\"final rounds:\", r)\n",
    "print(c, \"chooses to compromise at last.\")\n",
    "    \n"
   ]
  },
  {
   "cell_type": "code",
   "execution_count": 76,
   "id": "f9e15584",
   "metadata": {},
   "outputs": [],
   "source": [
    "def find_the_optimal_selfishness_for_B(w, w_A, fav_A, fav_B):\n",
    "    #set the initial bid\n",
    "    t_A = fav_A\n",
    "    t_B = fav_B\n",
    "    \n",
    "    w_B = w\n",
    "    r = 1\n",
    "    c = None\n",
    "    t_star = None\n",
    "    u_B_star = None\n",
    "    \n",
    "    while t_A != t_B:\n",
    "        # B makes the decision:\n",
    "        u_B_if_bid = -scipy.optimize.minimize_scalar(lambda t: -u_B(t, w_B, t_A, t_B, r), bounds=[fav_A, fav_B], method='bounded')[\"fun\"]\n",
    "        if u_B_if_bid > u_B(t_A, w_B, t_A, t_B, r - 1):\n",
    "            t_B = scipy.optimize.minimize_scalar(lambda t: -u_B(t, w_B, t_A, t_B, r), bounds=[fav_A, fav_B], method='bounded')[\"x\"]\n",
    "        else:\n",
    "            c = \"B\"\n",
    "            t_B_previous = t_B\n",
    "            t_B = t_A\n",
    "            \n",
    "            \n",
    "        # A makes the decision:\n",
    "        u_A_if_bid = -scipy.optimize.minimize_scalar(lambda t: -u_A(t, w_A, t_A, t_B, r), bounds=[fav_A, fav_B], method='bounded')[\"fun\"]\n",
    "        if u_A_if_bid > u_A(t_B, w_A, t_A, t_B, r - 1):\n",
    "            t_A = scipy.optimize.minimize_scalar(lambda t: -u_A(t, w_A, t_A, t_B, r), bounds=[fav_A, fav_B], method='bounded')[\"x\"]\n",
    "        else:\n",
    "            c = \"A\"\n",
    "            t_A_previous = t_A\n",
    "            t_A = t_B\n",
    "            \n",
    "        r += 1\n",
    "    t_star = t_A\n",
    "    if c == \"A\":\n",
    "        u_B_star = u_B(t_B, w_A, t_A_previous, t_B, r - 1)\n",
    "    else:\n",
    "        u_B_star = u_B(t_B, w_B, t_A, t_B_previous, r - 2)\n",
    "    return u_B_star\n",
    "    \n"
   ]
  },
  {
   "cell_type": "code",
   "execution_count": 109,
   "id": "54680276",
   "metadata": {
    "scrolled": true
   },
   "outputs": [
    {
     "data": {
      "text/plain": [
       "0.11560605839651804"
      ]
     },
     "execution_count": 109,
     "metadata": {},
     "output_type": "execute_result"
    }
   ],
   "source": [
    "find_the_optimal_selfishness_for_B(w = 1, w_A = 0.5, fav_A = 20, fav_B = 30)\n"
   ]
  },
  {
   "cell_type": "code",
   "execution_count": 111,
   "id": "dfde450a",
   "metadata": {},
   "outputs": [],
   "source": [
    "w = np.arange(0, 1, 0.0001)\n",
    "#plt.plot(w, find_the_optimal_selfishness_for_B(w, w_A = 0.5, fav_A = 20, fav_B = 30))"
   ]
  }
 ],
 "metadata": {
  "kernelspec": {
   "display_name": "Python 3 (ipykernel)",
   "language": "python",
   "name": "python3"
  },
  "language_info": {
   "codemirror_mode": {
    "name": "ipython",
    "version": 3
   },
   "file_extension": ".py",
   "mimetype": "text/x-python",
   "name": "python",
   "nbconvert_exporter": "python",
   "pygments_lexer": "ipython3",
   "version": "3.11.4"
  }
 },
 "nbformat": 4,
 "nbformat_minor": 5
}
